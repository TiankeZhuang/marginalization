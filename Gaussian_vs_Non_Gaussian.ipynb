{
 "cells": [
  {
   "cell_type": "code",
   "execution_count": 1,
   "id": "4d9478b2-cb54-427e-8490-e472ac5372d9",
   "metadata": {},
   "outputs": [],
   "source": [
    "import numpy as np\n",
    "import matplotlib.pyplot as plt\n",
    "from matplotlib import cm\n",
    "import seaborn as sns\n",
    "sns.set_style('darkgrid')\n",
    "%matplotlib inline\n",
    "%config InlineBackend.figure_formats = ['jpg']\n",
    "\n",
    "from scipy import interpolate\n",
    "from scipy import integrate\n",
    "\n",
    "from ipywidgets import interact\n",
    "import ipywidgets as widgets"
   ]
  },
  {
   "cell_type": "code",
   "execution_count": 2,
   "id": "e0ed55e5-03ea-4932-b868-25df1dadb5d3",
   "metadata": {},
   "outputs": [],
   "source": [
    "plt.rcdefaults()\n",
    "plt.rcParams.update({'figure.dpi':100})\n",
    "#plt.rcParams.update({'figure.autolayout':'True'})\n",
    "plt.rcParams.update({'font.size': 14})\n",
    "plt.rcParams.update({'font.family': 'sans-serif'})\n",
    "plt.rcParams.update({'mathtext.default':'regular'})\n",
    "plt.rcParams.update({'mathtext.fontset':'stixsans'})\n",
    "plt.rcParams.update({'axes.linewidth': 1.5})\n",
    "plt.rcParams.update({'xtick.major.width': 1.25 })\n",
    "plt.rcParams.update({'xtick.minor.size': 2.5})\n",
    "plt.rcParams.update({'xtick.minor.width': 1.25 })\n",
    "plt.rcParams.update({'ytick.major.size': 5})\n",
    "plt.rcParams.update({'ytick.major.width': 1.25 })\n",
    "plt.rcParams.update({'ytick.minor.size': 2.5})\n",
    "plt.rcParams.update({'ytick.minor.width': 1.25 })\n",
    "plt.rc('legend',**{'fontsize':'x-small'})\n",
    "#plt.figure(1,figsize = [11.0, 8.5])\n",
    "plt.rcParams.update({'xtick.direction':'in'})\n",
    "plt.rcParams.update({'ytick.direction':'in'})\n",
    "plt.rcParams.update({'xtick.top':'True'})\n",
    "plt.rcParams.update({'ytick.right':'True'})\n",
    "#plt.rcParams.update({'axes.formatter.limits': (-2, 2)})\n",
    "plt.rcParams.update({'lines.markersize': 8}) #6 is the default\n",
    "plt.rcParams.update({'legend.framealpha': 1.0})\n",
    "plt.rcParams.update({'legend.fancybox': 'False'})\n",
    "plt.rcParams.update({'axes.grid':'True'})"
   ]
  },
  {
   "cell_type": "code",
   "execution_count": 3,
   "id": "0f69e890-0f92-4241-84b3-84ef2e94f602",
   "metadata": {},
   "outputs": [],
   "source": [
    "# Global variables\n",
    "Percentages = [0.6827, 0.9545]"
   ]
  },
  {
   "cell_type": "code",
   "execution_count": 4,
   "id": "0bc2efc2-3921-4c24-bd8d-110d3e8cf853",
   "metadata": {},
   "outputs": [],
   "source": [
    "#\n",
    "# Returns log-likelihood\n",
    "def make_loglike(alpha, beta, gamma, theta):\n",
    "    \n",
    "\n",
    "def log_to_like(loglike):\n",
    "    return np.exp(-0.5*loglike)\n",
    "\n",
    "# x denotes cosmological parameters, y denotes nuisance parameter\n",
    "def get_levels(loglike):\n",
    "    likelihood = log_to_like(loglike)\n",
    "    ds = np.sort(likelihood.flatten())[::-1]\n",
    "    cs = np.cumsum(ds)\n",
    "    cs /= cs[-1]\n",
    "    return np.array([ds[np.argmax(cs > l)] for l in Percentages])[::-1]\n",
    "\n",
    "def normalize(loglike, x):\n",
    "    likelihood = log_to_like(loglike)\n",
    "    raw_sum = np.trapz(likelihood, x)\n",
    "    return likelihood/raw_sum\n",
    "\n",
    "# marginalize over param y for axis = 0,\n",
    "#                        x for axis = 1\n",
    "# a denotes x or y\n",
    "def marginalize(loglike, a, axis):\n",
    "    likelihood = log_to_like(loglike)\n",
    "    l_axis = np.sum(likelihood, axis=axis)\n",
    "    l_normed = normalize(l_axis, a)\n",
    "    return l_normed\n",
    "\n",
    "# maximize over param y\n",
    "def maximize(loglike, x, y, mean_y):\n",
    "    likelihood = log_to_like(loglike)\n",
    "    pos = np.where(y==mean_y)[0][0]\n",
    "    l = likelihood[pos]\n",
    "    return normalize(l, x)\n",
    "\n",
    "# take derivatives with respect to y\n",
    "def get_tk_marg(loglike, y):\n",
    "    dL = np.gradient(loglike, y, axis=0, edge_order=2)\n",
    "    ddL = np.gradient(dL, y, axis=0, edge_order=2)\n",
    "\n",
    "    L_marg = loglike - 0.5*dL*(1/ddL)*dL + np.log(0.5*ddL)\n",
    "\n",
    "    return normalize(np.exp(-0.5*L_marg)[Y==0], x)\n",
    "\n"
   ]
  },
  {
   "cell_type": "code",
   "execution_count": 17,
   "id": "d3ad0c9a-b5eb-4651-a0ad-5a290d659601",
   "metadata": {},
   "outputs": [
    {
     "data": {
      "application/vnd.jupyter.widget-view+json": {
       "model_id": "72ab9ad3bcaf4b4e9625a3617b4e89da",
       "version_major": 2,
       "version_minor": 0
      },
      "text/plain": [
       "interactive(children=(FloatSlider(value=0.0, description='alpha', max=10.0), FloatSlider(value=0.0, descriptio…"
      ]
     },
     "metadata": {},
     "output_type": "display_data"
    }
   ],
   "source": [
    "def get_levels(loglike):\n",
    "    ds = np.sort(np.exp(-0.5*loglike).flatten())[::-1]\n",
    "    cs = np.cumsum(ds)\n",
    "    cs /= cs[-1]\n",
    "    return np.array([ds[np.argmax(cs > l)] for l in Percentages])[::-1]\n",
    "\n",
    "\n",
    "@interact(alpha=widgets.FloatSlider(min=0, max=10),\n",
    "          betax= widgets.FloatSlider(min=-5, max=5), \n",
    "          gammax=widgets.FloatSlider(min=-5, max=5),\n",
    "          gammay=widgets.FloatSlider(min=-5, max=5),\n",
    "          theta= widgets.FloatSlider(min=0, max=np.pi/2))\n",
    "\n",
    "def plot_like(alpha, betax, gammax, gammay, theta):\n",
    "    xyrange = (-10,10)\n",
    "    x_base, y_base = np.meshgrid(*2*[np.linspace(*xyrange, 1000)])\n",
    "    \n",
    "    x = x_base*np.cos(theta) + y_base*np.sin(theta)\n",
    "    y = -x_base*np.sin(theta) + y_base*np.cos(theta)\n",
    "\n",
    "    loglike = x**2 + y**2 + alpha*(x*y)**2\n",
    "    likelihood = np.exp(-0.5*loglike)\n",
    "\n",
    "    plt.gca().set_aspect(1)\n",
    "    plt.contour(likelihood, extent=2*xyrange, levels=get_levels(loglike))\n",
    "    plt.xlim((-3,3))\n",
    "    plt.ylim((-3,3))"
   ]
  },
  {
   "cell_type": "code",
   "execution_count": null,
   "id": "4140b0af-acb5-4c2f-add5-92582b62e245",
   "metadata": {},
   "outputs": [],
   "source": []
  }
 ],
 "metadata": {
  "kernelspec": {
   "display_name": "Python 3 (ipykernel)",
   "language": "python",
   "name": "python3"
  },
  "language_info": {
   "codemirror_mode": {
    "name": "ipython",
    "version": 3
   },
   "file_extension": ".py",
   "mimetype": "text/x-python",
   "name": "python",
   "nbconvert_exporter": "python",
   "pygments_lexer": "ipython3",
   "version": "3.8.8"
  }
 },
 "nbformat": 4,
 "nbformat_minor": 5
}
