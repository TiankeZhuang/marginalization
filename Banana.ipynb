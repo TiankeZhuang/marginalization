{
 "cells": [
  {
   "cell_type": "code",
   "execution_count": 1,
   "id": "a688e522-5a16-4da4-b9a7-8614c3dd02ac",
   "metadata": {},
   "outputs": [],
   "source": [
    "import numpy as np\n",
    "import matplotlib.pyplot as plt\n",
    "import seaborn as sns\n",
    "sns.set_style('darkgrid')\n",
    "%matplotlib inline\n",
    "\n",
    "from ipywidgets import interact\n",
    "import ipywidgets as widgets"
   ]
  },
  {
   "cell_type": "code",
   "execution_count": 2,
   "id": "19c28675-dbd0-4402-859f-208fc7972afb",
   "metadata": {},
   "outputs": [],
   "source": [
    "plt.rcdefaults()\n",
    "plt.rcParams.update({'figure.dpi':100})\n",
    "#plt.rcParams.update({'figure.autolayout':'True'})\n",
    "plt.rcParams.update({'font.size': 14})\n",
    "plt.rcParams.update({'font.family': 'sans-serif'})\n",
    "plt.rcParams.update({'mathtext.default':'regular'})\n",
    "plt.rcParams.update({'mathtext.fontset':'stixsans'})\n",
    "plt.rcParams.update({'axes.linewidth': 1.5})\n",
    "plt.rcParams.update({'xtick.major.width': 1.25 })\n",
    "plt.rcParams.update({'xtick.minor.size': 2.5})\n",
    "plt.rcParams.update({'xtick.minor.width': 1.25 })\n",
    "plt.rcParams.update({'ytick.major.size': 5})\n",
    "plt.rcParams.update({'ytick.major.width': 1.25 })\n",
    "plt.rcParams.update({'ytick.minor.size': 2.5})\n",
    "plt.rcParams.update({'ytick.minor.width': 1.25 })\n",
    "plt.rc('legend',**{'fontsize':'x-small'})\n",
    "#plt.figure(1,figsize = [11.0, 8.5])\n",
    "plt.rcParams.update({'xtick.direction':'in'})\n",
    "plt.rcParams.update({'ytick.direction':'in'})\n",
    "plt.rcParams.update({'xtick.top':'True'})\n",
    "plt.rcParams.update({'ytick.right':'True'})\n",
    "plt.rcParams.update({'axes.formatter.limits': (-2, 2)})\n",
    "plt.rcParams.update({'lines.markersize': 8}) #6 is the default\n",
    "plt.rcParams.update({'legend.framealpha': 1.0})\n",
    "plt.rcParams.update({'legend.fancybox': 'False'})\n",
    "#plt.rcParams.update({'axes.grid':'True'})"
   ]
  },
  {
   "cell_type": "code",
   "execution_count": 3,
   "id": "dd05fb67-5afa-48e0-8b3b-6ba0f26810ec",
   "metadata": {},
   "outputs": [],
   "source": [
    "Percentages = [0.6827, 0.9545]"
   ]
  },
  {
   "cell_type": "code",
   "execution_count": 1,
   "id": "0128fa16-f9c4-40b6-9c4b-7ffad418bd6c",
   "metadata": {},
   "outputs": [
    {
     "ename": "NameError",
     "evalue": "name 'interact' is not defined",
     "output_type": "error",
     "traceback": [
      "\u001b[0;31m---------------------------------------------------------------------------\u001b[0m",
      "\u001b[0;31mNameError\u001b[0m                                 Traceback (most recent call last)",
      "\u001b[0;32m/tmp/ipykernel_4531/437083869.py\u001b[0m in \u001b[0;36m<module>\u001b[0;34m\u001b[0m\n\u001b[1;32m      5\u001b[0m     \u001b[0;32mreturn\u001b[0m \u001b[0mnp\u001b[0m\u001b[0;34m.\u001b[0m\u001b[0marray\u001b[0m\u001b[0;34m(\u001b[0m\u001b[0;34m[\u001b[0m\u001b[0mds\u001b[0m\u001b[0;34m[\u001b[0m\u001b[0mnp\u001b[0m\u001b[0;34m.\u001b[0m\u001b[0margmax\u001b[0m\u001b[0;34m(\u001b[0m\u001b[0mcs\u001b[0m \u001b[0;34m>\u001b[0m \u001b[0ml\u001b[0m\u001b[0;34m)\u001b[0m\u001b[0;34m]\u001b[0m \u001b[0;32mfor\u001b[0m \u001b[0ml\u001b[0m \u001b[0;32min\u001b[0m \u001b[0mPercentages\u001b[0m\u001b[0;34m]\u001b[0m\u001b[0;34m)\u001b[0m\u001b[0;34m[\u001b[0m\u001b[0;34m:\u001b[0m\u001b[0;34m:\u001b[0m\u001b[0;34m-\u001b[0m\u001b[0;36m1\u001b[0m\u001b[0;34m]\u001b[0m\u001b[0;34m\u001b[0m\u001b[0;34m\u001b[0m\u001b[0m\n\u001b[1;32m      6\u001b[0m \u001b[0;34m\u001b[0m\u001b[0m\n\u001b[0;32m----> 7\u001b[0;31m @interact(alpha= widgets.FloatSlider(min= -10, max=10),\n\u001b[0m\u001b[1;32m      8\u001b[0m           \u001b[0mbetax\u001b[0m\u001b[0;34m=\u001b[0m \u001b[0mwidgets\u001b[0m\u001b[0;34m.\u001b[0m\u001b[0mFloatSlider\u001b[0m\u001b[0;34m(\u001b[0m\u001b[0mmin\u001b[0m\u001b[0;34m=\u001b[0m\u001b[0;34m-\u001b[0m\u001b[0;36m5\u001b[0m\u001b[0;34m,\u001b[0m \u001b[0mmax\u001b[0m\u001b[0;34m=\u001b[0m\u001b[0;36m5\u001b[0m\u001b[0;34m)\u001b[0m\u001b[0;34m,\u001b[0m\u001b[0;34m\u001b[0m\u001b[0;34m\u001b[0m\u001b[0m\n\u001b[1;32m      9\u001b[0m           \u001b[0mbetay\u001b[0m\u001b[0;34m=\u001b[0m \u001b[0mwidgets\u001b[0m\u001b[0;34m.\u001b[0m\u001b[0mFloatSlider\u001b[0m\u001b[0;34m(\u001b[0m\u001b[0mmin\u001b[0m\u001b[0;34m=\u001b[0m\u001b[0;34m-\u001b[0m\u001b[0;36m5\u001b[0m\u001b[0;34m,\u001b[0m \u001b[0mmax\u001b[0m\u001b[0;34m=\u001b[0m\u001b[0;36m5\u001b[0m\u001b[0;34m)\u001b[0m\u001b[0;34m,\u001b[0m\u001b[0;34m\u001b[0m\u001b[0;34m\u001b[0m\u001b[0m\n",
      "\u001b[0;31mNameError\u001b[0m: name 'interact' is not defined"
     ]
    }
   ],
   "source": [
    "def get_levels(loglike):\n",
    "    ds = np.sort(np.exp(-0.5*loglike).flatten())[::-1]\n",
    "    cs = np.cumsum(ds)\n",
    "    cs /= cs[-1]\n",
    "    return np.array([ds[np.argmax(cs > l)] for l in Percentages])[::-1]\n",
    "\n",
    "@interact(alpha= widgets.FloatSlider(min= -10, max=10),\n",
    "          betax= widgets.FloatSlider(min=-5, max=5),\n",
    "          betay= widgets.FloatSlider(min=-5, max=5),\n",
    "          gammax=widgets.FloatSlider(min=-2, max=2),\n",
    "          gammay=widgets.FloatSlider(min=-2, max=2),\n",
    "          const= widgets.FloatSlider(min=-2, max=2))\n",
    "\n",
    "def plot_like(alpha, betax, betay, gammax, gammay, const):\n",
    "    xyrange = (-10,10)\n",
    "    x, y = np.meshgrid(*2*[np.linspace(*xyrange, 1000)])\n",
    "\n",
    "    loglike = x**2 + y**2 + np.exp(alpha)*(betax*x**2 + betay*y**2 - gammax*x - gammay*y + const)**2\n",
    "\n",
    "    plt.gca().set_aspect(1)\n",
    "    plt.contour(np.exp(-0.5*loglike), extent=2*xyrange, levels=get_levels(loglike))\n",
    "    plt.xlim((-3,3))\n",
    "    plt.ylim((-3,3))"
   ]
  },
  {
   "cell_type": "code",
   "execution_count": 5,
   "id": "90c9b00d-d8b2-44f7-8f9a-c30b64ca1bfc",
   "metadata": {},
   "outputs": [],
   "source": [
    "xyrange = (-10,10)\n",
    "X, Y = np.meshgrid(*2*[np.linspace(*xyrange, 1001)])\n",
    "x = X[0]\n",
    "y = Y.T[0]\n",
    "\n",
    "Betax = np.linspace(-5, 5, 1001)\n",
    "\n",
    "Likelihoods = []\n",
    "\n",
    "for i in range(len(Betax)):\n",
    "    loglike = X**2 + Y**2 + np.exp(2)*(Betax[i]*X**2 +1.5*Y)**2\n",
    "    L = np.exp(-0.5*loglike)\n",
    "    Likelihoods.append(L)"
   ]
  },
  {
   "cell_type": "code",
   "execution_count": 6,
   "id": "98bd9e2c-2810-4b90-a7f3-353a390e74f9",
   "metadata": {},
   "outputs": [],
   "source": [
    "def normalize(l, x):\n",
    "    raw_sum = np.trapz(l, x)\n",
    "    return l/raw_sum\n",
    "\n",
    "# marginalize over param y for axis = 0,\n",
    "#                        x for axis = 1\n",
    "# a denotes x or y\n",
    "def marginalize(L, a, axis):\n",
    "    l_axis = np.sum(L, axis=axis)\n",
    "    l_normed = normalize(l_axis, a)\n",
    "    return l_normed\n",
    "\n",
    "# maximize over param y\n",
    "def maximize(L, x, y, mean_y):\n",
    "    pos = np.where(y==mean_y)[0][0]\n",
    "    l = L[pos]\n",
    "    return normalize(l, x)"
   ]
  },
  {
   "cell_type": "code",
   "execution_count": 13,
   "id": "4ca748bd-d770-4a32-ba0e-e35aa2914ec3",
   "metadata": {},
   "outputs": [],
   "source": [
    "def get_mu(L, x):\n",
    "    x_val = x[np.where(L == np.max(L))][0]\n",
    "    return x_val\n",
    "\n",
    "def get_sigma(L, x, mu_x):\n",
    "    level = get_levels(L)\n",
    "    x_val = x[np.where(L == level[-1])][0]\n",
    "    return np.abs(x_val-mu_x)"
   ]
  },
  {
   "cell_type": "code",
   "execution_count": 14,
   "id": "b8d5a120-6da7-482a-adb9-af0ebd553b3f",
   "metadata": {},
   "outputs": [],
   "source": [
    "Lx_maxi = []\n",
    "Lx_marg = []\n",
    "Ly_maxi = []\n",
    "Ly_marg = []\n",
    "for i in range(len(Likelihoods)):\n",
    "    L = Likelihoods[i]\n",
    "    Lx_maxi.append(maximize(L, y, x, 0))\n",
    "    Lx_marg.append(marginalize(L, y, 0))\n",
    "    Ly_maxi.append(maximize(L, x, y, 0))\n",
    "    Ly_marg.append(marginalize(L, x, 1))"
   ]
  },
  {
   "cell_type": "code",
   "execution_count": 15,
   "id": "332b8ec6-f98b-40c3-955a-feda204e167d",
   "metadata": {},
   "outputs": [
    {
     "name": "stdout",
     "output_type": "stream",
     "text": [
      "[0.99999915 1.        ]\n"
     ]
    },
    {
     "ename": "IndexError",
     "evalue": "index 0 is out of bounds for axis 0 with size 0",
     "output_type": "error",
     "traceback": [
      "\u001b[0;31m---------------------------------------------------------------------------\u001b[0m",
      "\u001b[0;31mIndexError\u001b[0m                                Traceback (most recent call last)",
      "\u001b[0;32m/tmp/ipykernel_86/2054450092.py\u001b[0m in \u001b[0;36m<module>\u001b[0;34m\u001b[0m\n\u001b[1;32m      5\u001b[0m \u001b[0;32mfor\u001b[0m \u001b[0mi\u001b[0m \u001b[0;32min\u001b[0m \u001b[0mrange\u001b[0m\u001b[0;34m(\u001b[0m\u001b[0mlen\u001b[0m\u001b[0;34m(\u001b[0m\u001b[0mLikelihoods\u001b[0m\u001b[0;34m)\u001b[0m\u001b[0;34m)\u001b[0m\u001b[0;34m:\u001b[0m\u001b[0;34m\u001b[0m\u001b[0;34m\u001b[0m\u001b[0m\n\u001b[1;32m      6\u001b[0m     \u001b[0mlx_maxi\u001b[0m \u001b[0;34m=\u001b[0m \u001b[0mLx_maxi\u001b[0m\u001b[0;34m[\u001b[0m\u001b[0mi\u001b[0m\u001b[0;34m]\u001b[0m\u001b[0;34m\u001b[0m\u001b[0;34m\u001b[0m\u001b[0m\n\u001b[0;32m----> 7\u001b[0;31m     \u001b[0msigma_lx_maxi\u001b[0m\u001b[0;34m.\u001b[0m\u001b[0mappend\u001b[0m\u001b[0;34m(\u001b[0m\u001b[0mget_sigma\u001b[0m\u001b[0;34m(\u001b[0m\u001b[0mlx_maxi\u001b[0m\u001b[0;34m,\u001b[0m \u001b[0mx\u001b[0m\u001b[0;34m,\u001b[0m \u001b[0;36m0\u001b[0m\u001b[0;34m)\u001b[0m\u001b[0;34m)\u001b[0m\u001b[0;34m\u001b[0m\u001b[0;34m\u001b[0m\u001b[0m\n\u001b[0m\u001b[1;32m      8\u001b[0m \u001b[0;34m\u001b[0m\u001b[0m\n\u001b[1;32m      9\u001b[0m     \u001b[0mlx_marg\u001b[0m \u001b[0;34m=\u001b[0m \u001b[0mLx_marg\u001b[0m\u001b[0;34m[\u001b[0m\u001b[0mi\u001b[0m\u001b[0;34m]\u001b[0m\u001b[0;34m\u001b[0m\u001b[0;34m\u001b[0m\u001b[0m\n",
      "\u001b[0;32m/tmp/ipykernel_86/3630861976.py\u001b[0m in \u001b[0;36mget_sigma\u001b[0;34m(L, x, mu_x)\u001b[0m\n\u001b[1;32m      6\u001b[0m     \u001b[0mlevel\u001b[0m \u001b[0;34m=\u001b[0m \u001b[0mget_levels\u001b[0m\u001b[0;34m(\u001b[0m\u001b[0mL\u001b[0m\u001b[0;34m)\u001b[0m\u001b[0;34m\u001b[0m\u001b[0;34m\u001b[0m\u001b[0m\n\u001b[1;32m      7\u001b[0m     \u001b[0mprint\u001b[0m\u001b[0;34m(\u001b[0m\u001b[0mlevel\u001b[0m\u001b[0;34m)\u001b[0m\u001b[0;34m\u001b[0m\u001b[0;34m\u001b[0m\u001b[0m\n\u001b[0;32m----> 8\u001b[0;31m     \u001b[0mx_val\u001b[0m \u001b[0;34m=\u001b[0m \u001b[0mx\u001b[0m\u001b[0;34m[\u001b[0m\u001b[0mnp\u001b[0m\u001b[0;34m.\u001b[0m\u001b[0mwhere\u001b[0m\u001b[0;34m(\u001b[0m\u001b[0mL\u001b[0m \u001b[0;34m==\u001b[0m \u001b[0mlevel\u001b[0m\u001b[0;34m[\u001b[0m\u001b[0;34m-\u001b[0m\u001b[0;36m1\u001b[0m\u001b[0;34m]\u001b[0m\u001b[0;34m)\u001b[0m\u001b[0;34m]\u001b[0m\u001b[0;34m[\u001b[0m\u001b[0;36m0\u001b[0m\u001b[0;34m]\u001b[0m\u001b[0;34m\u001b[0m\u001b[0;34m\u001b[0m\u001b[0m\n\u001b[0m\u001b[1;32m      9\u001b[0m     \u001b[0;32mreturn\u001b[0m \u001b[0mnp\u001b[0m\u001b[0;34m.\u001b[0m\u001b[0mabs\u001b[0m\u001b[0;34m(\u001b[0m\u001b[0mx_val\u001b[0m\u001b[0;34m-\u001b[0m\u001b[0mmu_x\u001b[0m\u001b[0;34m)\u001b[0m\u001b[0;34m\u001b[0m\u001b[0;34m\u001b[0m\u001b[0m\n",
      "\u001b[0;31mIndexError\u001b[0m: index 0 is out of bounds for axis 0 with size 0"
     ]
    }
   ],
   "source": [
    "sigma_lx_maxi = []\n",
    "sigma_lx_marg = []\n",
    "sigma_ly_maxi = []\n",
    "sigma_ly_marg = []\n",
    "for i in range(len(Likelihoods)):\n",
    "    lx_maxi = Lx_maxi[i]\n",
    "    sigma_lx_maxi.append(get_sigma(lx_maxi, x, 0))\n",
    "    \n",
    "    lx_marg = Lx_marg[i]\n",
    "    sigma_lx_marg.append(get_sigma(lx_marg, x, 0))\n",
    "    \n",
    "    ly_maxi = Ly_maxi[i]\n",
    "    sigma_ly_maxi.append(get_sigma(ly_maxi, y, 0))\n",
    "    \n",
    "    ly_marg = Ly_marg[i]\n",
    "    sigma_ly_marg.append(get_sigma(ly_marg, y, 0))"
   ]
  },
  {
   "cell_type": "code",
   "execution_count": null,
   "id": "b824ed82-28ec-4720-9e37-6ff63b5610b7",
   "metadata": {
    "tags": []
   },
   "outputs": [],
   "source": [
    "fig, ax = plt.subplots(1, 1)\n",
    "ax.plot(Betax, sigma_lx_maxi, label='Maximize')\n",
    "ax.plot(Betax, sigma_lx_marg, label='Marginalize')\n",
    "ax.set_title(r'$\\sigma$ for L(x)')\n",
    "ax.set_xlabel(r'$\\beta_x$')\n",
    "ax.set_ylabel(r'$\\sigma$')\n",
    "ax.legend()"
   ]
  },
  {
   "cell_type": "code",
   "execution_count": null,
   "id": "9d2d57e2-2297-4eec-a778-034c01838dc0",
   "metadata": {},
   "outputs": [],
   "source": [
    "fig, ax = plt.subplots(1, 1)\n",
    "ax.scatter(Betax, sigma_ly_maxi, label='Maximize', s=2)\n",
    "ax.scatter(Betax, sigma_ly_marg, label='Marginalize', s=2)\n",
    "ax.set_title(r'$\\sigma$ for L(y)')\n",
    "ax.set_xlabel(r'$\\beta_x$')\n",
    "ax.set_ylabel(r'$\\sigma$')\n",
    "ax.legend()\n",
    "#ax.set_xscale('log')"
   ]
  }
 ],
 "metadata": {
  "kernelspec": {
   "display_name": "Python 3 (ipykernel)",
   "language": "python",
   "name": "python3"
  },
  "language_info": {
   "codemirror_mode": {
    "name": "ipython",
    "version": 3
   },
   "file_extension": ".py",
   "mimetype": "text/x-python",
   "name": "python",
   "nbconvert_exporter": "python",
   "pygments_lexer": "ipython3",
   "version": "3.8.8"
  }
 },
 "nbformat": 4,
 "nbformat_minor": 5
}
